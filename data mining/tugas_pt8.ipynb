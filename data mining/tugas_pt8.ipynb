{
 "cells": [
  {
   "cell_type": "markdown",
   "id": "2711ab22",
   "metadata": {},
   "source": [
    "**Data Mining SuperStore : Explorasi, Clustering & Klasifikasi**"
   ]
  },
  {
   "cell_type": "markdown",
   "id": "ec934005",
   "metadata": {},
   "source": [
    "Langkah 1 : Upload And Load Data"
   ]
  },
  {
   "cell_type": "code",
   "execution_count": 1,
   "id": "b7dcaec9",
   "metadata": {},
   "outputs": [
    {
     "data": {
      "text/html": [
       "<div>\n",
       "<style scoped>\n",
       "    .dataframe tbody tr th:only-of-type {\n",
       "        vertical-align: middle;\n",
       "    }\n",
       "\n",
       "    .dataframe tbody tr th {\n",
       "        vertical-align: top;\n",
       "    }\n",
       "\n",
       "    .dataframe thead th {\n",
       "        text-align: right;\n",
       "    }\n",
       "</style>\n",
       "<table border=\"1\" class=\"dataframe\">\n",
       "  <thead>\n",
       "    <tr style=\"text-align: right;\">\n",
       "      <th></th>\n",
       "      <th>Row ID</th>\n",
       "      <th>Order ID</th>\n",
       "      <th>Order Date</th>\n",
       "      <th>Year</th>\n",
       "      <th>Month</th>\n",
       "      <th>Day</th>\n",
       "      <th>Ship Mode</th>\n",
       "      <th>Customer ID</th>\n",
       "      <th>Customer Name</th>\n",
       "      <th>Segment</th>\n",
       "      <th>...</th>\n",
       "      <th>Postal Code</th>\n",
       "      <th>Region</th>\n",
       "      <th>Product ID</th>\n",
       "      <th>Category</th>\n",
       "      <th>Sub-Category</th>\n",
       "      <th>Product Name</th>\n",
       "      <th>Sales</th>\n",
       "      <th>Quantity</th>\n",
       "      <th>Discount</th>\n",
       "      <th>Profit</th>\n",
       "    </tr>\n",
       "  </thead>\n",
       "  <tbody>\n",
       "    <tr>\n",
       "      <th>0</th>\n",
       "      <td>1</td>\n",
       "      <td>CA-2016-152156</td>\n",
       "      <td>2016-11-08</td>\n",
       "      <td>2016</td>\n",
       "      <td>November</td>\n",
       "      <td>8</td>\n",
       "      <td>Second Class</td>\n",
       "      <td>CG-12520</td>\n",
       "      <td>Claire Gute</td>\n",
       "      <td>Consumer</td>\n",
       "      <td>...</td>\n",
       "      <td>42420</td>\n",
       "      <td>South</td>\n",
       "      <td>FUR-BO-10001798</td>\n",
       "      <td>Furniture</td>\n",
       "      <td>Bookcases</td>\n",
       "      <td>Bush Somerset Collection Bookcase</td>\n",
       "      <td>261.9600</td>\n",
       "      <td>2</td>\n",
       "      <td>0.00</td>\n",
       "      <td>41.9136</td>\n",
       "    </tr>\n",
       "    <tr>\n",
       "      <th>1</th>\n",
       "      <td>2</td>\n",
       "      <td>CA-2016-152156</td>\n",
       "      <td>2016-11-08</td>\n",
       "      <td>2016</td>\n",
       "      <td>November</td>\n",
       "      <td>8</td>\n",
       "      <td>Second Class</td>\n",
       "      <td>CG-12520</td>\n",
       "      <td>Claire Gute</td>\n",
       "      <td>Consumer</td>\n",
       "      <td>...</td>\n",
       "      <td>42420</td>\n",
       "      <td>South</td>\n",
       "      <td>FUR-CH-10000454</td>\n",
       "      <td>Furniture</td>\n",
       "      <td>Chairs</td>\n",
       "      <td>Hon Deluxe Fabric Upholstered Stacking Chairs,...</td>\n",
       "      <td>731.9400</td>\n",
       "      <td>3</td>\n",
       "      <td>0.00</td>\n",
       "      <td>219.5820</td>\n",
       "    </tr>\n",
       "    <tr>\n",
       "      <th>2</th>\n",
       "      <td>3</td>\n",
       "      <td>CA-2016-138688</td>\n",
       "      <td>2016-06-12</td>\n",
       "      <td>2016</td>\n",
       "      <td>Juni</td>\n",
       "      <td>12</td>\n",
       "      <td>Second Class</td>\n",
       "      <td>DV-13045</td>\n",
       "      <td>Darrin Van Huff</td>\n",
       "      <td>Corporate</td>\n",
       "      <td>...</td>\n",
       "      <td>90036</td>\n",
       "      <td>West</td>\n",
       "      <td>OFF-LA-10000240</td>\n",
       "      <td>Office Supplies</td>\n",
       "      <td>Labels</td>\n",
       "      <td>Self-Adhesive Address Labels for Typewriters b...</td>\n",
       "      <td>14.6200</td>\n",
       "      <td>2</td>\n",
       "      <td>0.00</td>\n",
       "      <td>6.8714</td>\n",
       "    </tr>\n",
       "    <tr>\n",
       "      <th>3</th>\n",
       "      <td>4</td>\n",
       "      <td>US-2015-108966</td>\n",
       "      <td>2015-10-11</td>\n",
       "      <td>2015</td>\n",
       "      <td>Oktober</td>\n",
       "      <td>11</td>\n",
       "      <td>Standard Class</td>\n",
       "      <td>SO-20335</td>\n",
       "      <td>Sean O'Donnell</td>\n",
       "      <td>Consumer</td>\n",
       "      <td>...</td>\n",
       "      <td>33311</td>\n",
       "      <td>South</td>\n",
       "      <td>FUR-TA-10000577</td>\n",
       "      <td>Furniture</td>\n",
       "      <td>Tables</td>\n",
       "      <td>Bretford CR4500 Series Slim Rectangular Table</td>\n",
       "      <td>957.5775</td>\n",
       "      <td>5</td>\n",
       "      <td>0.45</td>\n",
       "      <td>-383.0310</td>\n",
       "    </tr>\n",
       "    <tr>\n",
       "      <th>4</th>\n",
       "      <td>5</td>\n",
       "      <td>US-2015-108966</td>\n",
       "      <td>2015-10-11</td>\n",
       "      <td>2015</td>\n",
       "      <td>Oktober</td>\n",
       "      <td>11</td>\n",
       "      <td>Standard Class</td>\n",
       "      <td>SO-20335</td>\n",
       "      <td>Sean O'Donnell</td>\n",
       "      <td>Consumer</td>\n",
       "      <td>...</td>\n",
       "      <td>33311</td>\n",
       "      <td>South</td>\n",
       "      <td>OFF-ST-10000760</td>\n",
       "      <td>Office Supplies</td>\n",
       "      <td>Storage</td>\n",
       "      <td>Eldon Fold 'N Roll Cart System</td>\n",
       "      <td>22.3680</td>\n",
       "      <td>2</td>\n",
       "      <td>0.20</td>\n",
       "      <td>2.5164</td>\n",
       "    </tr>\n",
       "  </tbody>\n",
       "</table>\n",
       "<p>5 rows × 23 columns</p>\n",
       "</div>"
      ],
      "text/plain": [
       "   Row ID        Order ID Order Date  Year     Month  Day       Ship Mode  \\\n",
       "0       1  CA-2016-152156 2016-11-08  2016  November    8    Second Class   \n",
       "1       2  CA-2016-152156 2016-11-08  2016  November    8    Second Class   \n",
       "2       3  CA-2016-138688 2016-06-12  2016      Juni   12    Second Class   \n",
       "3       4  US-2015-108966 2015-10-11  2015   Oktober   11  Standard Class   \n",
       "4       5  US-2015-108966 2015-10-11  2015   Oktober   11  Standard Class   \n",
       "\n",
       "  Customer ID    Customer Name    Segment  ... Postal Code Region  \\\n",
       "0    CG-12520      Claire Gute   Consumer  ...       42420  South   \n",
       "1    CG-12520      Claire Gute   Consumer  ...       42420  South   \n",
       "2    DV-13045  Darrin Van Huff  Corporate  ...       90036   West   \n",
       "3    SO-20335   Sean O'Donnell   Consumer  ...       33311  South   \n",
       "4    SO-20335   Sean O'Donnell   Consumer  ...       33311  South   \n",
       "\n",
       "        Product ID         Category Sub-Category  \\\n",
       "0  FUR-BO-10001798        Furniture    Bookcases   \n",
       "1  FUR-CH-10000454        Furniture       Chairs   \n",
       "2  OFF-LA-10000240  Office Supplies       Labels   \n",
       "3  FUR-TA-10000577        Furniture       Tables   \n",
       "4  OFF-ST-10000760  Office Supplies      Storage   \n",
       "\n",
       "                                        Product Name     Sales Quantity  \\\n",
       "0                  Bush Somerset Collection Bookcase  261.9600        2   \n",
       "1  Hon Deluxe Fabric Upholstered Stacking Chairs,...  731.9400        3   \n",
       "2  Self-Adhesive Address Labels for Typewriters b...   14.6200        2   \n",
       "3      Bretford CR4500 Series Slim Rectangular Table  957.5775        5   \n",
       "4                     Eldon Fold 'N Roll Cart System   22.3680        2   \n",
       "\n",
       "  Discount    Profit  \n",
       "0     0.00   41.9136  \n",
       "1     0.00  219.5820  \n",
       "2     0.00    6.8714  \n",
       "3     0.45 -383.0310  \n",
       "4     0.20    2.5164  \n",
       "\n",
       "[5 rows x 23 columns]"
      ]
     },
     "execution_count": 1,
     "metadata": {},
     "output_type": "execute_result"
    }
   ],
   "source": [
    "import pandas as pd\n",
    "df = pd.read_excel('Datasets SuperStore.xlsx')\n",
    "df.head()"
   ]
  },
  {
   "cell_type": "markdown",
   "id": "c4b3b01e",
   "metadata": {},
   "source": [
    "Langkah 2 : Exporasi Data"
   ]
  },
  {
   "cell_type": "code",
   "execution_count": 2,
   "id": "061a0e7e",
   "metadata": {},
   "outputs": [
    {
     "name": "stdout",
     "output_type": "stream",
     "text": [
      "<class 'pandas.core.frame.DataFrame'>\n",
      "RangeIndex: 9994 entries, 0 to 9993\n",
      "Data columns (total 23 columns):\n",
      " #   Column         Non-Null Count  Dtype         \n",
      "---  ------         --------------  -----         \n",
      " 0   Row ID         9994 non-null   int64         \n",
      " 1   Order ID       9994 non-null   object        \n",
      " 2   Order Date     9994 non-null   datetime64[ns]\n",
      " 3   Year           9994 non-null   int64         \n",
      " 4   Month          9994 non-null   object        \n",
      " 5   Day            9994 non-null   int64         \n",
      " 6   Ship Mode      9994 non-null   object        \n",
      " 7   Customer ID    9994 non-null   object        \n",
      " 8   Customer Name  9994 non-null   object        \n",
      " 9   Segment        9994 non-null   object        \n",
      " 10  Country        9994 non-null   object        \n",
      " 11  City           9994 non-null   object        \n",
      " 12  State          9994 non-null   object        \n",
      " 13  Postal Code    9994 non-null   int64         \n",
      " 14  Region         9994 non-null   object        \n",
      " 15  Product ID     9994 non-null   object        \n",
      " 16  Category       9994 non-null   object        \n",
      " 17  Sub-Category   9994 non-null   object        \n",
      " 18  Product Name   9994 non-null   object        \n",
      " 19  Sales          9994 non-null   float64       \n",
      " 20  Quantity       9994 non-null   int64         \n",
      " 21  Discount       9994 non-null   float64       \n",
      " 22  Profit         9994 non-null   float64       \n",
      "dtypes: datetime64[ns](1), float64(3), int64(5), object(14)\n",
      "memory usage: 1.8+ MB\n",
      "\n",
      "Missing Values: \n",
      " Row ID           0\n",
      "Order ID         0\n",
      "Order Date       0\n",
      "Year             0\n",
      "Month            0\n",
      "Day              0\n",
      "Ship Mode        0\n",
      "Customer ID      0\n",
      "Customer Name    0\n",
      "Segment          0\n",
      "Country          0\n",
      "City             0\n",
      "State            0\n",
      "Postal Code      0\n",
      "Region           0\n",
      "Product ID       0\n",
      "Category         0\n",
      "Sub-Category     0\n",
      "Product Name     0\n",
      "Sales            0\n",
      "Quantity         0\n",
      "Discount         0\n",
      "Profit           0\n",
      "dtype: int64\n"
     ]
    },
    {
     "data": {
      "text/plain": [
       "Index(['Row ID', 'Order ID', 'Order Date', 'Year', 'Month', 'Day', 'Ship Mode',\n",
       "       'Customer ID', 'Customer Name', 'Segment', 'Country', 'City', 'State',\n",
       "       'Postal Code', 'Region', 'Product ID', 'Category', 'Sub-Category',\n",
       "       'Product Name', 'Sales', 'Quantity', 'Discount', 'Profit'],\n",
       "      dtype='object')"
      ]
     },
     "execution_count": 2,
     "metadata": {},
     "output_type": "execute_result"
    }
   ],
   "source": [
    "df.info()\n",
    "print(\"\\nMissing Values: \\n\", df.isnull().sum())\n",
    "df.describe()\n",
    "df.columns"
   ]
  },
  {
   "cell_type": "markdown",
   "id": "0d96e1cb",
   "metadata": {},
   "source": [
    "Langkah 3 : Visualisasi"
   ]
  },
  {
   "cell_type": "code",
   "execution_count": 3,
   "id": "87dafb83",
   "metadata": {},
   "outputs": [
    {
     "data": {
      "image/png": "[encoded data removed]",
      "text/plain": [
       "<Figure size 640x480 with 1 Axes>"
      ]
     },
     "metadata": {},
     "output_type": "display_data"
    },
    {
     "data": {
      "image/png": "[encoded data removed]",
      "text/plain": [
       "<Figure size 640x480 with 1 Axes>"
      ]
     },
     "metadata": {},
     "output_type": "display_data"
    }
   ],
   "source": [
    "import seaborn as sns\n",
    "import matplotlib.pyplot as plt\n",
    "\n",
    "df.groupby('Category')['Sales'].sum().plot(kind='bar', title='Penjualan per Kategori')\n",
    "plt.ylabel('Total Sales')\n",
    "plt.show()\n",
    "\n",
    "sns.scatterplot(data = df, x = 'Discount', y = 'Profit')\n",
    "plt.title('Discount vs Profit')\n",
    "plt.show()"
   ]
  },
  {
   "cell_type": "markdown",
   "id": "6d77cf92",
   "metadata": {},
   "source": [
    "Langkah 4 : Klasifikasi Untung Rugi"
   ]
  },
  {
   "cell_type": "markdown",
   "id": "ce4b1af4",
   "metadata": {},
   "source": [
    "Menggunakan metode Decision Tree"
   ]
  },
  {
   "cell_type": "code",
   "execution_count": 4,
   "id": "e2bdde27",
   "metadata": {},
   "outputs": [
    {
     "name": "stdout",
     "output_type": "stream",
     "text": [
      "Classification Report: \n",
      "               precision    recall  f1-score   support\n",
      "\n",
      "           0       0.82      0.81      0.81       547\n",
      "           1       0.96      0.96      0.96      2452\n",
      "\n",
      "    accuracy                           0.93      2999\n",
      "   macro avg       0.89      0.88      0.89      2999\n",
      "weighted avg       0.93      0.93      0.93      2999\n",
      "\n",
      "Confusion Matrix: \n",
      " [[ 441  106]\n",
      " [  96 2356]]\n"
     ]
    }
   ],
   "source": [
    "from sklearn.tree import DecisionTreeClassifier\n",
    "from sklearn.model_selection import train_test_split\n",
    "from sklearn.metrics import accuracy_score, classification_report, confusion_matrix\n",
    "\n",
    "df['Label'] = df['Profit'].apply(lambda x: 1 if x > 0 else 0)\n",
    "features = df[['Sales', 'Discount', 'Quantity' ]].fillna(0)\n",
    "label = df['Label']\n",
    "\n",
    "X_train, X_test, y_train, y_test = train_test_split(features, label, test_size=0.3, random_state=42)\n",
    "model = DecisionTreeClassifier()\n",
    "model.fit(X_train, y_train)\n",
    "y_pred = model.predict(X_test)\n",
    "\n",
    "print(\"Classification Report: \\n\", classification_report(y_test, y_pred))\n",
    "print(\"Confusion Matrix: \\n\", confusion_matrix(y_test, y_pred))"
   ]
  },
  {
   "cell_type": "markdown",
   "id": "5b106d9f",
   "metadata": {},
   "source": [
    "Menggunakan metode KNN (k nearst neighbors)"
   ]
  },
  {
   "cell_type": "code",
   "execution_count": 5,
   "id": "94c98779",
   "metadata": {},
   "outputs": [
    {
     "name": "stdout",
     "output_type": "stream",
     "text": [
      "Classification Report: \n",
      "               precision    recall  f1-score   support\n",
      "\n",
      "           0       0.65      0.36      0.46       547\n",
      "           1       0.87      0.96      0.91      2452\n",
      "\n",
      "    accuracy                           0.85      2999\n",
      "   macro avg       0.76      0.66      0.69      2999\n",
      "weighted avg       0.83      0.85      0.83      2999\n",
      "\n",
      "Confusion Matrix: \n",
      " [[ 197  350]\n",
      " [ 104 2348]]\n"
     ]
    }
   ],
   "source": [
    "from sklearn.neighbors import KNeighborsClassifier \n",
    "\n",
    "df['Label'] = df['Profit'].apply(lambda x: 1 if x > 0 else 0)\n",
    "features = df[['Sales', 'Discount', 'Quantity' ]].fillna(0)\n",
    "label = df['Label']\n",
    "\n",
    "X_train, X_test, y_train, y_test = train_test_split(features, label, test_size=0.3, random_state=42)\n",
    "model = KNeighborsClassifier()\n",
    "model.fit(X_train, y_train)\n",
    "y_pred = model.predict(X_test)\n",
    "\n",
    "print(\"Classification Report: \\n\", classification_report(y_test, y_pred))\n",
    "print(\"Confusion Matrix: \\n\", confusion_matrix(y_test, y_pred))"
   ]
  },
  {
   "cell_type": "markdown",
   "id": "23ed6248",
   "metadata": {},
   "source": [
    "Menggunakan metode Random Forest"
   ]
  },
  {
   "cell_type": "code",
   "execution_count": 6,
   "id": "1df8cf12",
   "metadata": {},
   "outputs": [
    {
     "name": "stdout",
     "output_type": "stream",
     "text": [
      "Classification Report: \n",
      "               precision    recall  f1-score   support\n",
      "\n",
      "           0       0.84      0.81      0.83       547\n",
      "           1       0.96      0.97      0.96      2452\n",
      "\n",
      "    accuracy                           0.94      2999\n",
      "   macro avg       0.90      0.89      0.89      2999\n",
      "weighted avg       0.94      0.94      0.94      2999\n",
      "\n",
      "Confusion Matrix: \n",
      " [[ 443  104]\n",
      " [  82 2370]]\n"
     ]
    }
   ],
   "source": [
    "from sklearn.ensemble import RandomForestClassifier\n",
    "\n",
    "df['Label'] = df['Profit'].apply(lambda x: 1 if x > 0 else 0)\n",
    "features = df[['Sales', 'Discount', 'Quantity' ]].fillna(0)\n",
    "label = df['Label']\n",
    "\n",
    "X_train, X_test, y_train, y_test = train_test_split(features, label, test_size=0.3, random_state=42)\n",
    "model = RandomForestClassifier()\n",
    "model.fit(X_train, y_train)\n",
    "y_pred = model.predict(X_test)\n",
    "\n",
    "print(\"Classification Report: \\n\", classification_report(y_test, y_pred))\n",
    "print(\"Confusion Matrix: \\n\", confusion_matrix(y_test, y_pred))"
   ]
  },
  {
   "cell_type": "markdown",
   "id": "239d696c",
   "metadata": {},
   "source": [
    "----------------\n"
   ]
  },
  {
   "cell_type": "markdown",
   "id": "3e5e9051",
   "metadata": {},
   "source": [
    "hasil dari klasifikasi menggunakan 3 metode :\n",
    "\n",
    "- Decision Tree : 0.93 : 93%\n",
    "\n",
    "- KNN           : 0.85 : 85%\n",
    "\n",
    "- Random Forest : 0.94 : 94%"
   ]
  },
  {
   "cell_type": "markdown",
   "id": "b4a58305",
   "metadata": {},
   "source": [
    "-----------"
   ]
  },
  {
   "cell_type": "markdown",
   "id": "6929011f",
   "metadata": {},
   "source": [
    "**Kesimpulan**\n",
    "\n",
    "Perbedaan hasil akurasi dari tiga metode klasifikasi, yaitu Decision Tree (93%), K-Nearest Neighbors (KNN) (85%), dan Random Forest (94%), disebabkan oleh perbedaan cara kerja masing-masing algoritma dalam memproses dan menganalisis data. Decision Tree bekerja dengan membagi data berdasarkan fitur paling informatif dan cocok untuk data dengan pola yang jelas, meskipun berisiko overfitting. Sementara itu, KNN mengklasifikasikan data berdasarkan kedekatan jarak dengan data lain, sehingga performanya menurun jika data mengandung noise, outlier, atau memiliki banyak dimensi. Di sisi lain, Random Forest yang merupakan gabungan dari banyak Decision Tree, memberikan akurasi tertinggi karena mampu mengurangi overfitting dan menghasilkan prediksi yang lebih stabil dan akurat. Oleh karena itu, perbedaan akurasi ini mencerminkan keunggulan dan kelemahan masing-masing metode dalam menangani kompleksitas dan karakteristik data."
   ]
  }
 ],
 "metadata": {
  "kernelspec": {
   "display_name": "Python 3",
   "language": "python",
   "name": "python3"
  },
  "language_info": {
   "codemirror_mode": {
    "name": "ipython",
    "version": 3
   },
   "file_extension": ".py",
   "mimetype": "text/x-python",
   "name": "python",
   "nbconvert_exporter": "python",
   "pygments_lexer": "ipython3",
   "version": "3.13.1"
  }
 },
 "nbformat": 4,
 "nbformat_minor": 5
}
